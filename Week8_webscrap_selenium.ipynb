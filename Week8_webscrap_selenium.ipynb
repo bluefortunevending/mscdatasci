{
  "nbformat": 4,
  "nbformat_minor": 0,
  "metadata": {
    "colab": {
      "provenance": []
    },
    "kernelspec": {
      "name": "python3",
      "display_name": "Python 3"
    },
    "language_info": {
      "name": "python"
    }
  },
  "cells": [
    {
      "cell_type": "code",
      "execution_count": 2,
      "metadata": {
        "id": "NF8CtEYTSdDl"
      },
      "outputs": [],
      "source": [
        "!pip install -q selenium webdriver-manager"
      ]
    },
    {
      "cell_type": "code",
      "source": [
        "# Refer to : https://gist.github.com/korakot/5c8e21a5af63966d80a676af0ce15067\n",
        "\n",
        "!apt-get update\n",
        "!apt-get install libu2f-udev libvulkan1\n",
        "!wget https://dl.google.com/linux/direct/google-chrome-stable_current_amd64.deb\n",
        "!dpkg -i google-chrome-stable_current_amd64.deb\n",
        "!wget https://edgedl.me.gvt1.com/edgedl/chrome/chrome-for-testing/118.0.5993.70/linux64/chromedriver-linux64.zip\n",
        "!unzip -j chromedriver-linux64.zip chromedriver-linux64/chromedriver -d /usr/local/bin/\n",
        "!pip install selenium chromedriver_autoinstaller"
      ],
      "metadata": {
        "colab": {
          "base_uri": "https://localhost:8080/"
        },
        "id": "cWQ_7Zj5Yf9f",
        "outputId": "37d3ae5a-709c-4d2b-a4f5-aac25591c609"
      },
      "execution_count": 21,
      "outputs": [
        {
          "output_type": "stream",
          "name": "stdout",
          "text": [
            "\r0% [Working]\r            \rHit:1 https://cloud.r-project.org/bin/linux/ubuntu jammy-cran40/ InRelease\n",
            "\r0% [Connecting to archive.ubuntu.com] [Connecting to security.ubuntu.com (91.189.91.82)] [Connecting\r                                                                                                    \rHit:2 https://developer.download.nvidia.com/compute/cuda/repos/ubuntu2204/x86_64  InRelease\n",
            "Hit:3 http://security.ubuntu.com/ubuntu jammy-security InRelease\n",
            "Hit:4 https://r2u.stat.illinois.edu/ubuntu jammy InRelease\n",
            "Hit:5 http://archive.ubuntu.com/ubuntu jammy InRelease\n",
            "Hit:6 http://archive.ubuntu.com/ubuntu jammy-updates InRelease\n",
            "Hit:7 http://archive.ubuntu.com/ubuntu jammy-backports InRelease\n",
            "Hit:8 https://ppa.launchpadcontent.net/deadsnakes/ppa/ubuntu jammy InRelease\n",
            "Hit:9 https://ppa.launchpadcontent.net/graphics-drivers/ppa/ubuntu jammy InRelease\n",
            "Hit:10 https://ppa.launchpadcontent.net/ubuntugis/ppa/ubuntu jammy InRelease\n",
            "Reading package lists... Done\n",
            "W: Skipping acquire of configured file 'main/source/Sources' as repository 'https://r2u.stat.illinois.edu/ubuntu jammy InRelease' does not seem to provide it (sources.list entry misspelt?)\n",
            "Reading package lists... Done\n",
            "Building dependency tree... Done\n",
            "Reading state information... Done\n",
            "The following additional packages will be installed:\n",
            "  mesa-vulkan-drivers\n",
            "The following NEW packages will be installed:\n",
            "  libu2f-udev libvulkan1 mesa-vulkan-drivers\n",
            "0 upgraded, 3 newly installed, 0 to remove and 49 not upgraded.\n",
            "Need to get 10.9 MB of archives.\n",
            "After this operation, 51.3 MB of additional disk space will be used.\n",
            "Get:1 http://archive.ubuntu.com/ubuntu jammy/main amd64 libu2f-udev all 1.1.10-3build2 [4,190 B]\n",
            "Get:2 http://archive.ubuntu.com/ubuntu jammy/main amd64 libvulkan1 amd64 1.3.204.1-2 [128 kB]\n",
            "Get:3 http://archive.ubuntu.com/ubuntu jammy-updates/main amd64 mesa-vulkan-drivers amd64 23.2.1-1ubuntu3.1~22.04.3 [10.7 MB]\n",
            "Fetched 10.9 MB in 2s (5,899 kB/s)\n",
            "Selecting previously unselected package libu2f-udev.\n",
            "(Reading database ... 124099 files and directories currently installed.)\n",
            "Preparing to unpack .../libu2f-udev_1.1.10-3build2_all.deb ...\n",
            "Unpacking libu2f-udev (1.1.10-3build2) ...\n",
            "Selecting previously unselected package libvulkan1:amd64.\n",
            "Preparing to unpack .../libvulkan1_1.3.204.1-2_amd64.deb ...\n",
            "Unpacking libvulkan1:amd64 (1.3.204.1-2) ...\n",
            "Selecting previously unselected package mesa-vulkan-drivers:amd64.\n",
            "Preparing to unpack .../mesa-vulkan-drivers_23.2.1-1ubuntu3.1~22.04.3_amd64.deb ...\n",
            "Unpacking mesa-vulkan-drivers:amd64 (23.2.1-1ubuntu3.1~22.04.3) ...\n",
            "Setting up libu2f-udev (1.1.10-3build2) ...\n",
            "Setting up libvulkan1:amd64 (1.3.204.1-2) ...\n",
            "Setting up mesa-vulkan-drivers:amd64 (23.2.1-1ubuntu3.1~22.04.3) ...\n",
            "Processing triggers for libc-bin (2.35-0ubuntu3.4) ...\n",
            "/sbin/ldconfig.real: /usr/local/lib/libtcm_debug.so.1 is not a symbolic link\n",
            "\n",
            "/sbin/ldconfig.real: /usr/local/lib/libur_loader.so.0 is not a symbolic link\n",
            "\n",
            "/sbin/ldconfig.real: /usr/local/lib/libhwloc.so.15 is not a symbolic link\n",
            "\n",
            "/sbin/ldconfig.real: /usr/local/lib/libumf.so.0 is not a symbolic link\n",
            "\n",
            "/sbin/ldconfig.real: /usr/local/lib/libtbbmalloc_proxy.so.2 is not a symbolic link\n",
            "\n",
            "/sbin/ldconfig.real: /usr/local/lib/libtbbbind_2_0.so.3 is not a symbolic link\n",
            "\n",
            "/sbin/ldconfig.real: /usr/local/lib/libtbbbind.so.3 is not a symbolic link\n",
            "\n",
            "/sbin/ldconfig.real: /usr/local/lib/libtbbmalloc.so.2 is not a symbolic link\n",
            "\n",
            "/sbin/ldconfig.real: /usr/local/lib/libtbb.so.12 is not a symbolic link\n",
            "\n",
            "/sbin/ldconfig.real: /usr/local/lib/libtbbbind_2_5.so.3 is not a symbolic link\n",
            "\n",
            "/sbin/ldconfig.real: /usr/local/lib/libtcm.so.1 is not a symbolic link\n",
            "\n",
            "/sbin/ldconfig.real: /usr/local/lib/libur_adapter_level_zero.so.0 is not a symbolic link\n",
            "\n",
            "/sbin/ldconfig.real: /usr/local/lib/libur_adapter_opencl.so.0 is not a symbolic link\n",
            "\n",
            "--2024-12-22 17:36:19--  https://dl.google.com/linux/direct/google-chrome-stable_current_amd64.deb\n",
            "Resolving dl.google.com (dl.google.com)... 142.251.188.136, 142.251.188.91, 142.251.188.93, ...\n",
            "Connecting to dl.google.com (dl.google.com)|142.251.188.136|:443... connected.\n",
            "HTTP request sent, awaiting response... 200 OK\n",
            "Length: 112770956 (108M) [application/x-debian-package]\n",
            "Saving to: ‘google-chrome-stable_current_amd64.deb’\n",
            "\n",
            "google-chrome-stabl 100%[===================>] 107.55M   245MB/s    in 0.4s    \n",
            "\n",
            "2024-12-22 17:36:19 (245 MB/s) - ‘google-chrome-stable_current_amd64.deb’ saved [112770956/112770956]\n",
            "\n",
            "Selecting previously unselected package google-chrome-stable.\n",
            "(Reading database ... 124140 files and directories currently installed.)\n",
            "Preparing to unpack google-chrome-stable_current_amd64.deb ...\n",
            "Unpacking google-chrome-stable (131.0.6778.204-1) ...\n",
            "Setting up google-chrome-stable (131.0.6778.204-1) ...\n",
            "update-alternatives: using /usr/bin/google-chrome-stable to provide /usr/bin/x-www-browser (x-www-browser) in auto mode\n",
            "update-alternatives: using /usr/bin/google-chrome-stable to provide /usr/bin/gnome-www-browser (gnome-www-browser) in auto mode\n",
            "update-alternatives: using /usr/bin/google-chrome-stable to provide /usr/bin/google-chrome (google-chrome) in auto mode\n",
            "Processing triggers for man-db (2.10.2-1) ...\n",
            "--2024-12-22 17:36:35--  https://edgedl.me.gvt1.com/edgedl/chrome/chrome-for-testing/118.0.5993.70/linux64/chromedriver-linux64.zip\n",
            "Resolving edgedl.me.gvt1.com (edgedl.me.gvt1.com)... 34.104.35.123, 2600:1900:4110:86f::\n",
            "Connecting to edgedl.me.gvt1.com (edgedl.me.gvt1.com)|34.104.35.123|:443... connected.\n",
            "HTTP request sent, awaiting response... 302 Found\n",
            "Location: https://storage.googleapis.com/chrome-for-testing-public/118.0.5993.70/linux64/chromedriver-linux64.zip [following]\n",
            "--2024-12-22 17:36:35--  https://storage.googleapis.com/chrome-for-testing-public/118.0.5993.70/linux64/chromedriver-linux64.zip\n",
            "Resolving storage.googleapis.com (storage.googleapis.com)... 74.125.20.207, 108.177.98.207, 74.125.197.207, ...\n",
            "Connecting to storage.googleapis.com (storage.googleapis.com)|74.125.20.207|:443... connected.\n",
            "HTTP request sent, awaiting response... 200 OK\n",
            "Length: 8269742 (7.9M) [application/zip]\n",
            "Saving to: ‘chromedriver-linux64.zip’\n",
            "\n",
            "chromedriver-linux6 100%[===================>]   7.89M  --.-KB/s    in 0.1s    \n",
            "\n",
            "2024-12-22 17:36:35 (76.8 MB/s) - ‘chromedriver-linux64.zip’ saved [8269742/8269742]\n",
            "\n",
            "Archive:  chromedriver-linux64.zip\n",
            "  inflating: /usr/local/bin/chromedriver  \n",
            "Requirement already satisfied: selenium in /usr/local/lib/python3.10/dist-packages (4.27.1)\n",
            "Collecting chromedriver_autoinstaller\n",
            "  Downloading chromedriver_autoinstaller-0.6.4-py3-none-any.whl.metadata (2.1 kB)\n",
            "Requirement already satisfied: urllib3<3,>=1.26 in /usr/local/lib/python3.10/dist-packages (from urllib3[socks]<3,>=1.26->selenium) (2.2.3)\n",
            "Requirement already satisfied: trio~=0.17 in /usr/local/lib/python3.10/dist-packages (from selenium) (0.27.0)\n",
            "Requirement already satisfied: trio-websocket~=0.9 in /usr/local/lib/python3.10/dist-packages (from selenium) (0.11.1)\n",
            "Requirement already satisfied: certifi>=2021.10.8 in /usr/local/lib/python3.10/dist-packages (from selenium) (2024.12.14)\n",
            "Requirement already satisfied: typing_extensions~=4.9 in /usr/local/lib/python3.10/dist-packages (from selenium) (4.12.2)\n",
            "Requirement already satisfied: websocket-client~=1.8 in /usr/local/lib/python3.10/dist-packages (from selenium) (1.8.0)\n",
            "Requirement already satisfied: packaging>=23.1 in /usr/local/lib/python3.10/dist-packages (from chromedriver_autoinstaller) (24.2)\n",
            "Requirement already satisfied: attrs>=23.2.0 in /usr/local/lib/python3.10/dist-packages (from trio~=0.17->selenium) (24.3.0)\n",
            "Requirement already satisfied: sortedcontainers in /usr/local/lib/python3.10/dist-packages (from trio~=0.17->selenium) (2.4.0)\n",
            "Requirement already satisfied: idna in /usr/local/lib/python3.10/dist-packages (from trio~=0.17->selenium) (3.10)\n",
            "Requirement already satisfied: outcome in /usr/local/lib/python3.10/dist-packages (from trio~=0.17->selenium) (1.3.0.post0)\n",
            "Requirement already satisfied: sniffio>=1.3.0 in /usr/local/lib/python3.10/dist-packages (from trio~=0.17->selenium) (1.3.1)\n",
            "Requirement already satisfied: exceptiongroup in /usr/local/lib/python3.10/dist-packages (from trio~=0.17->selenium) (1.2.2)\n",
            "Requirement already satisfied: wsproto>=0.14 in /usr/local/lib/python3.10/dist-packages (from trio-websocket~=0.9->selenium) (1.2.0)\n",
            "Requirement already satisfied: pysocks!=1.5.7,<2.0,>=1.5.6 in /usr/local/lib/python3.10/dist-packages (from urllib3[socks]<3,>=1.26->selenium) (1.7.1)\n",
            "Requirement already satisfied: h11<1,>=0.9.0 in /usr/local/lib/python3.10/dist-packages (from wsproto>=0.14->trio-websocket~=0.9->selenium) (0.14.0)\n",
            "Downloading chromedriver_autoinstaller-0.6.4-py3-none-any.whl (7.6 kB)\n",
            "Installing collected packages: chromedriver_autoinstaller\n",
            "Successfully installed chromedriver_autoinstaller-0.6.4\n"
          ]
        }
      ]
    },
    {
      "cell_type": "code",
      "source": [
        "!apt install -q chromium-chromedriver"
      ],
      "metadata": {
        "colab": {
          "base_uri": "https://localhost:8080/"
        },
        "id": "Wm0_AmE7YidY",
        "outputId": "af8eae24-a2c1-4c93-807c-42f63d9ae833"
      },
      "execution_count": 19,
      "outputs": [
        {
          "output_type": "stream",
          "name": "stdout",
          "text": [
            "Reading package lists...\n",
            "Building dependency tree...\n",
            "Reading state information...\n",
            "Package chromium is not available, but is referred to by another package.\n",
            "This may mean that the package is missing, has been obsoleted, or\n",
            "is only available from another source\n",
            "However the following packages replace it:\n",
            "  chromium-bsu\n",
            "\n",
            "\u001b[1;31mE: \u001b[0mPackage 'chromium' has no installation candidate\u001b[0m\n"
          ]
        }
      ]
    },
    {
      "cell_type": "code",
      "source": [
        "import os\n",
        "import requests\n",
        "from selenium import webdriver\n",
        "from selenium.webdriver.common.by import By\n",
        "from selenium.webdriver.chrome.service import Service\n",
        "from webdriver_manager.chrome import ChromeDriverManager\n",
        "import time"
      ],
      "metadata": {
        "id": "3KL75aN_V8Ib"
      },
      "execution_count": 11,
      "outputs": []
    },
    {
      "cell_type": "code",
      "source": [
        "# set up the webdriver using webdriver manager\n",
        "# driver = webdriver.Chrome(service=Service(ChromeDriverManager().install()))\n",
        "\n",
        "#chrome_options = webdriver.ChromeOptions()\n",
        "#chrome_options.add_argument('--headless')\n",
        "#chrome_options.add_argument('--no-sandbox')\n",
        "#chrome_options.add_argument('--disable-dev-shm-usage')\n",
        "#driver = webdriver.Chrome('chromedriver',options=chrome_options)\n",
        "\n",
        "# set options to be headless, ..\n",
        "from selenium import webdriver\n",
        "import chromedriver_autoinstaller\n",
        "options = webdriver.ChromeOptions()\n",
        "options.add_argument('--headless')\n",
        "options.add_argument('--no-sandbox')\n",
        "options.add_argument('--disable-dev-shm-usage')\n",
        "chromedriver_autoinstaller.install()\n"
      ],
      "metadata": {
        "colab": {
          "base_uri": "https://localhost:8080/",
          "height": 35
        },
        "id": "2YtWDfREV8Nr",
        "outputId": "04e2743a-0849-4824-94ae-df34d9443498"
      },
      "execution_count": 22,
      "outputs": [
        {
          "output_type": "execute_result",
          "data": {
            "text/plain": [
              "'/usr/local/lib/python3.10/dist-packages/chromedriver_autoinstaller/131/chromedriver'"
            ],
            "application/vnd.google.colaboratory.intrinsic+json": {
              "type": "string"
            }
          },
          "metadata": {},
          "execution_count": 22
        }
      ]
    },
    {
      "cell_type": "code",
      "source": [
        "driver = webdriver.Chrome(options=options)"
      ],
      "metadata": {
        "id": "Ie1iiy8MZRWT"
      },
      "execution_count": 23,
      "outputs": []
    },
    {
      "cell_type": "code",
      "source": [
        "# open the website\n",
        "url = 'https://www.birchwoodu.org'\n",
        "driver.get(url)"
      ],
      "metadata": {
        "id": "0GS-didoV8ZN"
      },
      "execution_count": 24,
      "outputs": []
    },
    {
      "cell_type": "code",
      "source": [
        "# wait for the page to load completely\n",
        "time.sleep(5)"
      ],
      "metadata": {
        "id": "gD9lJkRpV8al"
      },
      "execution_count": 25,
      "outputs": []
    },
    {
      "cell_type": "code",
      "source": [
        "# find all the image elements on the page\n",
        "images = driver.find_elements(By.TAG_NAME, 'img')"
      ],
      "metadata": {
        "id": "nFN4pGPQV8dN"
      },
      "execution_count": 26,
      "outputs": []
    },
    {
      "cell_type": "code",
      "source": [
        "images[0]"
      ],
      "metadata": {
        "colab": {
          "base_uri": "https://localhost:8080/"
        },
        "id": "2RlF_MEEeCj7",
        "outputId": "6d683173-b1c7-45e9-d27c-f54c35d2b18c"
      },
      "execution_count": 29,
      "outputs": [
        {
          "output_type": "execute_result",
          "data": {
            "text/plain": [
              "<selenium.webdriver.remote.webelement.WebElement (session=\"f4ad874ef3f6c109b882b3c2dc13736d\", element=\"f.33C649EADBE2A19031217A7BE9CB2816.d.E618A786B788CE137EE3DDDD89444574.e.25\")>"
            ]
          },
          "metadata": {},
          "execution_count": 29
        }
      ]
    },
    {
      "cell_type": "code",
      "source": [
        "# extract the 'src' attribute of each image\n",
        "image_urls = [image.get_attribute('src') for image in images if image.get_attribute('src')]"
      ],
      "metadata": {
        "id": "PXcBC_mDV8eY"
      },
      "execution_count": 30,
      "outputs": []
    },
    {
      "cell_type": "code",
      "source": [
        "# close the browser\n",
        "driver.quit()"
      ],
      "metadata": {
        "id": "DCiP8_OqX5Wi"
      },
      "execution_count": 31,
      "outputs": []
    },
    {
      "cell_type": "code",
      "source": [
        "# create a directory to save images\n",
        "output_dir = 'birchwood_images'\n",
        "os.makedirs(output_dir, exist_ok=True)"
      ],
      "metadata": {
        "id": "uFupn89ZX5YF"
      },
      "execution_count": 32,
      "outputs": []
    },
    {
      "cell_type": "code",
      "source": [
        "# Download and save the images\n",
        "for index, img_url in enumerate(image_urls):\n",
        "  try:\n",
        "    # send a GET request to the image URL\n",
        "    response = requests.get(img_url, stream=True)\n",
        "    response.raise_for_status() # check for HTTP request errors\n",
        "\n",
        "    # create a file path\n",
        "    file_name = os.path.join(output_dir, f'image_{index+1}.jpg')\n",
        "\n",
        "    # open the file in binary write mode and save the image\n",
        "    with open(file_name, 'wb') as file:\n",
        "      for chunk in response.iter_content(1024):\n",
        "        file.write(chunk)\n",
        "\n",
        "    print(f\"Downloaded: {img_url} -> {file_name}\")\n",
        "\n",
        "  except Exception as e:\n",
        "    print(f\"Failed to download {img_url}: {e}\")\n",
        "\n",
        "print(f\"\\nAll images have been saved in the '{output_dir}' directory.\")"
      ],
      "metadata": {
        "colab": {
          "base_uri": "https://localhost:8080/"
        },
        "id": "pMr7IK7xaLjm",
        "outputId": "1df4c902-2bcd-4e0f-f8ef-533232462d2f"
      },
      "execution_count": 33,
      "outputs": [
        {
          "output_type": "stream",
          "name": "stdout",
          "text": [
            "Downloaded: https://www.birchwoodu.org/wp-content/uploads/2022/08/Full-white-448x136.png -> birchwood_images/image_1.jpg\n",
            "Downloaded: https://www.birchwoodu.org/wp-content/uploads/2022/08/448x136-448x136.png -> birchwood_images/image_2.jpg\n",
            "Downloaded: https://www.birchwoodu.org/wp-content/uploads/2022/10/home-06-intro-bg-01-2.jpg -> birchwood_images/image_3.jpg\n",
            "Downloaded: https://www.birchwoodu.org/wp-content/uploads/2022/10/home-04-hero-slide-bg-01.jpg -> birchwood_images/image_4.jpg\n",
            "Downloaded: https://www.birchwoodu.org/wp-content/uploads/2022/08/MBA.jpg -> birchwood_images/image_5.jpg\n",
            "Downloaded: https://www.birchwoodu.org/wp-content/uploads/2023/07/dba-admission.jpg -> birchwood_images/image_6.jpg\n",
            "Downloaded: https://www.birchwoodu.org/wp-content/uploads/2022/08/image-4.png -> birchwood_images/image_7.jpg\n",
            "Downloaded: https://www.birchwoodu.org/wp-content/uploads/2023/02/corporate-culture-2023.jpg -> birchwood_images/image_8.jpg\n",
            "Downloaded: https://www.birchwoodu.org/wp-content/uploads/2023/01/may.png -> birchwood_images/image_9.jpg\n",
            "Downloaded: https://www.birchwoodu.org/wp-content/uploads/2023/01/clock.png -> birchwood_images/image_10.jpg\n",
            "Downloaded: https://cdn-icons-png.flaticon.com/512/1420/1420341.png -> birchwood_images/image_11.jpg\n",
            "Downloaded: https://www.birchwoodu.org/wp-content/uploads/2023/02/decoding.png -> birchwood_images/image_12.jpg\n",
            "Downloaded: https://www.birchwoodu.org/wp-content/uploads/2023/01/may.png -> birchwood_images/image_13.jpg\n",
            "Downloaded: https://www.birchwoodu.org/wp-content/uploads/2023/01/clock.png -> birchwood_images/image_14.jpg\n",
            "Downloaded: https://cdn-icons-png.flaticon.com/512/1420/1420341.png -> birchwood_images/image_15.jpg\n",
            "Downloaded: https://www.birchwoodu.org/wp-content/uploads/2023/02/Probelm-Solving.jpg -> birchwood_images/image_16.jpg\n",
            "Downloaded: https://www.birchwoodu.org/wp-content/uploads/2023/01/may.png -> birchwood_images/image_17.jpg\n",
            "Downloaded: https://www.birchwoodu.org/wp-content/uploads/2023/01/clock.png -> birchwood_images/image_18.jpg\n",
            "Downloaded: https://cdn-icons-png.flaticon.com/512/1420/1420341.png -> birchwood_images/image_19.jpg\n",
            "Downloaded: https://www.birchwoodu.org/wp-content/uploads/2024/07/CECU-AlliedMember-1-1.png -> birchwood_images/image_20.jpg\n",
            "Downloaded: https://www.birchwoodu.org/wp-content/uploads/2023/02/CIE-Logo.png -> birchwood_images/image_21.jpg\n",
            "Downloaded: https://www.birchwoodu.org/wp-content/uploads/2023/02/logo-removebg-preview.png -> birchwood_images/image_22.jpg\n",
            "Downloaded: https://www.birchwoodu.org/wp-content/uploads/2024/12/DBA-vs.-PhD.jpg -> birchwood_images/image_23.jpg\n",
            "Downloaded: https://www.birchwoodu.org/wp-content/uploads/2024/12/DBA-Specializations.jpg -> birchwood_images/image_24.jpg\n",
            "Downloaded: https://www.birchwoodu.org/wp-content/uploads/2024/12/DBA-Program_-Admission-Requirements-and-Tips.jpg -> birchwood_images/image_25.jpg\n",
            "Downloaded: https://www.birchwoodu.org/wp-content/uploads/2024/12/The-Role-of-Text-Mining-and-Sentiment-Analysis.jpg -> birchwood_images/image_26.jpg\n",
            "Downloaded: https://www.birchwoodu.org/wp-content/uploads/2024/12/The-Future-of-DBA-Programs.jpg -> birchwood_images/image_27.jpg\n",
            "Downloaded: https://www.birchwoodu.org/wp-content/uploads/2024/12/DBA-vs.-PhD.jpg -> birchwood_images/image_28.jpg\n",
            "Downloaded: https://www.birchwoodu.org/wp-content/uploads/2024/12/DBA-Specializations.jpg -> birchwood_images/image_29.jpg\n",
            "Downloaded: https://www.birchwoodu.org/wp-content/uploads/2024/12/DBA-Program_-Admission-Requirements-and-Tips.jpg -> birchwood_images/image_30.jpg\n",
            "Downloaded: https://www.birchwoodu.org/wp-content/uploads/2024/12/The-Role-of-Text-Mining-and-Sentiment-Analysis.jpg -> birchwood_images/image_31.jpg\n",
            "Downloaded: https://www.birchwoodu.org/wp-content/uploads/2024/12/The-Future-of-DBA-Programs.jpg -> birchwood_images/image_32.jpg\n",
            "Downloaded: https://www.birchwoodu.org/wp-content/uploads/2024/12/DBA-vs.-PhD.jpg -> birchwood_images/image_33.jpg\n",
            "Downloaded: https://www.birchwoodu.org/wp-content/uploads/2024/12/DBA-Specializations.jpg -> birchwood_images/image_34.jpg\n",
            "Downloaded: https://www.birchwoodu.org/wp-content/uploads/2024/12/DBA-Program_-Admission-Requirements-and-Tips.jpg -> birchwood_images/image_35.jpg\n",
            "Downloaded: https://www.birchwoodu.org/wp-content/uploads/2022/08/Full-white.png -> birchwood_images/image_36.jpg\n",
            "Downloaded: https://www.birchwoodu.org/wp-content/uploads/2022/08/Full-HD-165x93.png -> birchwood_images/image_37.jpg\n",
            "\n",
            "All images have been saved in the 'birchwood_images' directory.\n"
          ]
        }
      ]
    },
    {
      "cell_type": "code",
      "source": [],
      "metadata": {
        "id": "W5KqFjtBaLiJ"
      },
      "execution_count": null,
      "outputs": []
    },
    {
      "cell_type": "code",
      "source": [],
      "metadata": {
        "id": "LAGu_dVTaLg4"
      },
      "execution_count": null,
      "outputs": []
    },
    {
      "cell_type": "code",
      "source": [],
      "metadata": {
        "id": "Kwch8GLMaLfu"
      },
      "execution_count": null,
      "outputs": []
    },
    {
      "cell_type": "code",
      "source": [],
      "metadata": {
        "id": "H5-w6ncVaLei"
      },
      "execution_count": null,
      "outputs": []
    },
    {
      "cell_type": "code",
      "source": [],
      "metadata": {
        "id": "a85oqwSSaLdV"
      },
      "execution_count": null,
      "outputs": []
    },
    {
      "cell_type": "code",
      "source": [],
      "metadata": {
        "id": "hPA-OjdAaLbT"
      },
      "execution_count": null,
      "outputs": []
    },
    {
      "cell_type": "code",
      "source": [],
      "metadata": {
        "id": "Ho-LuKewaLY6"
      },
      "execution_count": null,
      "outputs": []
    },
    {
      "cell_type": "code",
      "source": [],
      "metadata": {
        "id": "WpMDCX7GaLXr"
      },
      "execution_count": null,
      "outputs": []
    },
    {
      "cell_type": "code",
      "source": [],
      "metadata": {
        "id": "jav1ZwW-aLWX"
      },
      "execution_count": null,
      "outputs": []
    },
    {
      "cell_type": "code",
      "source": [],
      "metadata": {
        "id": "NjCEAFNpaLVA"
      },
      "execution_count": null,
      "outputs": []
    },
    {
      "cell_type": "code",
      "source": [],
      "metadata": {
        "id": "Mj5slipMaLTm"
      },
      "execution_count": null,
      "outputs": []
    },
    {
      "cell_type": "code",
      "source": [],
      "metadata": {
        "id": "B6SCg7ctX5br"
      },
      "execution_count": null,
      "outputs": []
    },
    {
      "cell_type": "code",
      "source": [],
      "metadata": {
        "id": "MoKsRNtSX564"
      },
      "execution_count": null,
      "outputs": []
    },
    {
      "cell_type": "code",
      "source": [],
      "metadata": {
        "id": "wUl93mNuX594"
      },
      "execution_count": null,
      "outputs": []
    }
  ]
}